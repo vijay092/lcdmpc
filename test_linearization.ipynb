{
 "cells": [
  {
   "cell_type": "markdown",
   "metadata": {},
   "source": [
    "## Test linearization "
   ]
  },
  {
   "cell_type": "code",
   "execution_count": 29,
   "metadata": {},
   "outputs": [],
   "source": [
    "import numpy as np\n",
    "import matplotlib.pyplot as plt"
   ]
  },
  {
   "cell_type": "code",
   "execution_count": 30,
   "metadata": {},
   "outputs": [],
   "source": [
    "A = np.array([[0.9986]])  # 1 minute model\n",
    "        # coefficients for Q_hvac (-ve value for cooling) - self.mean_inputs(4)\n",
    "        # self.Bu = np.array([[0.0001263, 0.0, 0.0]])  # 5 minute model\n",
    "Bu = np.array([[0.00002533, 0.0, 0.0]])  # 1 minute model\n",
    "Bv = np.array([[0.0]])\n",
    "Bd = np.array(\n",
    "    [[0.00009755, 0.000065762, 0.000075529, 0.0]]\n",
    ") \n"
   ]
  },
  {
   "cell_type": "code",
   "execution_count": 38,
   "metadata": {},
   "outputs": [],
   "source": [
    "time = 100\n",
    "x = np.array([0])\n",
    "x_list = []\n",
    "d =  np.array(\n",
    "    [[100], [1], [2], [0.0]]\n",
    ") \n",
    "u =  np.array(\n",
    "    [[1], [1], [2]]\n",
    ") \n",
    "for time_iter in range(time):\n",
    "\n",
    "    x = np.dot(A,x) #+ np.dot(Bu, u) + np.dot(Bd, d)\n",
    "    x_list.append(float(x))"
   ]
  },
  {
   "cell_type": "code",
   "execution_count": 39,
   "metadata": {},
   "outputs": [
    {
     "data": {
      "text/plain": [
       "[<matplotlib.lines.Line2D at 0x7f81a1de7580>]"
      ]
     },
     "execution_count": 39,
     "metadata": {},
     "output_type": "execute_result"
    },
    {
     "data": {
      "image/png": "[encoded data removed]",
      "text/plain": [
       "<Figure size 432x288 with 1 Axes>"
      ]
     },
     "metadata": {
      "needs_background": "light"
     },
     "output_type": "display_data"
    }
   ],
   "source": [
    "plt.plot(x_list)"
   ]
  },
  {
   "cell_type": "code",
   "execution_count": null,
   "metadata": {},
   "outputs": [],
   "source": []
  }
 ],
 "metadata": {
  "kernelspec": {
   "display_name": "Python 3.9.12 ('aumc1')",
   "language": "python",
   "name": "python3"
  },
  "language_info": {
   "codemirror_mode": {
    "name": "ipython",
    "version": 3
   },
   "file_extension": ".py",
   "mimetype": "text/x-python",
   "name": "python",
   "nbconvert_exporter": "python",
   "pygments_lexer": "ipython3",
   "version": "3.9.12"
  },
  "orig_nbformat": 4,
  "vscode": {
   "interpreter": {
    "hash": "668a552e71fd4aab7bf978babbff575a44dbdaf2c5b96a74fc134a30f0a32422"
   }
  }
 },
 "nbformat": 4,
 "nbformat_minor": 2
}
